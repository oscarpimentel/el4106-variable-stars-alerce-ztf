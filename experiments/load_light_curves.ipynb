{
 "cells": [
  {
   "cell_type": "markdown",
   "metadata": {},
   "source": [
    "# ALeRCE classes\n",
    "\n",
    "https://github.com/ZwickyTransientFacility/ztf-avro-alert\n",
    "\n",
    "1. **AGN:** Active Galactic Nuclei\n",
    "1. **Blazar:** Blazar\n",
    "1. **CV/Nova:** Cataclysmic Variable Star/Nova\n",
    "1. **Ceph: Cepheid Variable Star**\n",
    "1. **DSCT: Delta Scuti Star**\n",
    "1. **EA:** Eclipsing Algol\n",
    "1. **EB/EW: Eclipsing Binaries/Eclipsing W Ursa Majoris**\n",
    "1. **LPV: Long Period Variable**\n",
    "1. **Periodic-Other:** Periodic-Other\n",
    "1. **QSO:** Quasi-Stellar Object\n",
    "1. **RRL: RRLyrae Variable Star**\n",
    "1. **RSCVn:** RS Canum Venaticorum\n",
    "1. **SLSN:** Super Luminous Supernova\n",
    "1. **SNII:** Supernova II\n",
    "1. **SNIIb:** Supernova IIb\n",
    "1. **SNIIn:** Supernova IIn\n",
    "1. **SNIa:** Supernova Ia\n",
    "1. **SNIbc:** Supernova Ibc\n",
    "1. **TDE:** Tidal disruption event (to remove)\n",
    "1. **YSO:** Young Stellar Object\n",
    "1. **ZZ:** ZZ Ceti Stars (to remove)"
   ]
  },
  {
   "cell_type": "markdown",
   "metadata": {},
   "source": [
    "# Columns names\n",
    "1. **oid:** object id\n",
    "1. **classALeRCE:** object class name\n",
    "1. **fid:** band index, g=1, r=2\n",
    "1. **mjd:** observation day in mjd format\n",
    "1. **magpsf_corr:** observations in aparent magnitude\n",
    "1. **sigmapsf_corr:** observation errors in aparent magnitude"
   ]
  },
  {
   "cell_type": "code",
   "execution_count": null,
   "metadata": {},
   "outputs": [],
   "source": [
    "import sys\n",
    "sys.path.append('../')\n",
    "sys.path.append('../../')"
   ]
  },
  {
   "cell_type": "code",
   "execution_count": null,
   "metadata": {},
   "outputs": [],
   "source": [
    "import numpy as np\n",
    "import pandas as pd\n",
    "            \n",
    "#survey_name = 'alerceZTFv5.1'\n",
    "survey_name = 'alerceZTFv7.1' # use this dataset\n",
    "\n",
    "### load files\n",
    "load_root_dir = f'../data/{survey_name}'\n",
    "labels_df = pd.read_parquet(f'{load_root_dir}/labels_vs.parquet')\n",
    "print(f'labels_df; columns={list(labels_df.columns)}; id={labels_df.index.name}')\n",
    "detections_df = pd.read_parquet(f'{load_root_dir}/detections_vs.parquet')\n",
    "print(f'detections_df; columns={list(detections_df.columns)}; id={detections_df.index.name}')\n",
    "\n",
    "### print info\n",
    "classes = sorted(set(labels_df['classALeRCE'].values))\n",
    "print(f'classes={classes}')"
   ]
  },
  {
   "cell_type": "code",
   "execution_count": null,
   "metadata": {},
   "outputs": [],
   "source": [
    "%load_ext autoreload\n",
    "%autoreload 2\n",
    "from fuzzytools.level_bars import LevelBar\n",
    "\n",
    "classes, counts = np.unique(labels_df['classALeRCE'].values, return_counts=True)\n",
    "population_cdict = {c:counts[kc] for kc,c in enumerate(classes)}\n",
    "print(LevelBar(population_cdict, ncols=60))"
   ]
  },
  {
   "cell_type": "code",
   "execution_count": null,
   "metadata": {},
   "outputs": [],
   "source": [
    "print(detections_df.info())\n",
    "detections_df[:20]"
   ]
  },
  {
   "cell_type": "code",
   "execution_count": null,
   "metadata": {},
   "outputs": [],
   "source": [
    "print(labels_df.info())\n",
    "labels_df[:20]"
   ]
  },
  {
   "cell_type": "code",
   "execution_count": null,
   "metadata": {},
   "outputs": [],
   "source": [
    "%load_ext autoreload\n",
    "%autoreload 2\n",
    "from vstars import _C\n",
    "from vstars.utils import get_object\n",
    "import matplotlib.pyplot as plt\n",
    "from dask import dataframe as dd\n",
    "\n",
    "### example using dask\n",
    "detections_ddf = dd.from_pandas(detections_df, npartitions=_C.N_DASK) # dask dataframe can be faster\n",
    "labels_ddf = dd.from_pandas(labels_df, npartitions=_C.N_DASK) # dask dataframe can be faster\n",
    "obj_name = 'ZTF18abvpirg'\n",
    "band = 1\n",
    "days, obs, obs_error, c = get_object(detections_ddf, labels_ddf, obj_name, band)\n",
    "\n",
    "color = 'k'\n",
    "fig, ax = plt.subplots(1, 1, figsize=(10,4))\n",
    "ax.plot(days, obs, 'o--', c=color)\n",
    "ax.errorbar(days, obs, yerr=obs_error, color=color, capsize=0, elinewidth=1, linewidth=0)\n",
    "ax.set_title(f'obj={obj_name}; class={c}; band={band}')\n",
    "ax.grid(alpha=0.5)\n",
    "plt.show()\n",
    "print(labels_df.loc[obj_name])\n",
    "print(detections_df.loc[obj_name])"
   ]
  }
 ],
 "metadata": {
  "kernelspec": {
   "display_name": "Python 3 (ipykernel)",
   "language": "python",
   "name": "python3"
  },
  "language_info": {
   "codemirror_mode": {
    "name": "ipython",
    "version": 3
   },
   "file_extension": ".py",
   "mimetype": "text/x-python",
   "name": "python",
   "nbconvert_exporter": "python",
   "pygments_lexer": "ipython3",
   "version": "3.7.11"
  }
 },
 "nbformat": 4,
 "nbformat_minor": 4
}
