{
 "cells": [
  {
   "cell_type": "markdown",
   "metadata": {},
   "source": [
    "# ALeRCE classes\n",
    "\n",
    "https://github.com/ZwickyTransientFacility/ztf-avro-alert\n",
    "\n",
    "1. **AGN:** Active Galactic Nuclei\n",
    "1. **Blazar:** Blazar\n",
    "1. **CV/Nova:** Cataclysmic Variable Star/Nova\n",
    "1. **Ceph:** Cepheid Variable Star\n",
    "1. **DSCT:** Delta Scuti Star\n",
    "1. **EA:** Eclipsing Algol\n",
    "1. **EB/EW:** Eclipsing Binaries/Eclipsing W Ursa Majoris\n",
    "1. **LPV:** Long Period Variable\n",
    "1. **Periodic-Other:** Periodic-Other\n",
    "1. **QSO:** Quasi-Stellar Object\n",
    "1. **RRL:** RRLyrae Variable Star\n",
    "1. **RSCVn:** RS Canum Venaticorum\n",
    "1. **SLSN:** Super Luminous Supernova\n",
    "1. **SNII:** Supernova II\n",
    "1. **SNIIb:** Supernova IIb\n",
    "1. **SNIIn:** Supernova IIn\n",
    "1. **SNIa:** Supernova Ia\n",
    "1. **SNIbc:** Supernova Ibc\n",
    "1. **TDE:** Tidal disruption event (to remove)\n",
    "1. **YSO:** Young Stellar Object\n",
    "1. **ZZ:** ZZ Ceti Stars (to remove)"
   ]
  },
  {
   "cell_type": "code",
   "execution_count": null,
   "metadata": {},
   "outputs": [],
   "source": [
    "import sys\n",
    "sys.path.append('../../')"
   ]
  },
  {
   "cell_type": "code",
   "execution_count": null,
   "metadata": {},
   "outputs": [],
   "source": [
    "%load_ext autoreload\n",
    "%autoreload 2\n",
    "from vstars.alerce_utils import process_df_labels, process_df_detections, keep_only_valid_objs\n",
    "import numpy as np\n",
    "import pandas as pd\n",
    "\n",
    "load_rootdir = '../../../../tesis/surveys_data'\n",
    "survey_name = 'alerceZTFv7.1'\n",
    "uses_corr = False # uses_corr=False only can be used with SNe objects\n",
    "df_index_names = {\n",
    "    'oid':'oid', # object id\n",
    "    'oid_det':'objectId', # object id\n",
    "    'label':'classALeRCE', # object class name\n",
    "    'ra':'ra',\n",
    "    'dec':'dec',\n",
    "    'band':'fid', # band\n",
    "    'obs_day':'mjd', # days\n",
    "    'obs':'magpsf_corr' if uses_corr else 'magpsf', # observations\n",
    "    'obs_error':'sigmapsf_corr' if uses_corr else 'sigmapsf', # observation errors\n",
    "}\n",
    "detections_cols = ['objectId', 'fid', 'mjd', df_index_names['obs'], df_index_names['obs_error']]\n",
    "\n",
    "### load files and processing\n",
    "detections_df = pd.read_parquet(f'{load_rootdir}/{survey_name}/detections_with_xmatch')\n",
    "detections_df, det_objs = process_df_detections(detections_df, df_index_names['oid_det'], df_index_names['oid'], detections_cols, uses_corr=uses_corr)\n",
    "print(f'detections_df - columns: {list(detections_df.columns)} - id: {detections_df.index.name}')\n",
    "\n",
    "labels_df = pd.read_csv(f'{load_rootdir}/{survey_name}/dfcrossmatches_prioritized_v7.0.1.csv')\n",
    "labels_df, label_objs = process_df_labels(labels_df, df_index_names['oid'], det_objs)\n",
    "print(f'labels - columns: {list(labels_df.columns)} - id: {labels_df.index.name}')\n",
    "\n",
    "### filter\n",
    "valid_objs = sorted(list(set(det_objs) & set(label_objs)))\n",
    "labels_df = keep_only_valid_objs(labels_df, valid_objs)\n",
    "detections_df = keep_only_valid_objs(detections_df, valid_objs)\n",
    "\n",
    "### print info\n",
    "classes = sorted(set(labels_df[df_index_names['label']].values))\n",
    "print('classes:', classes)"
   ]
  },
  {
   "cell_type": "code",
   "execution_count": null,
   "metadata": {},
   "outputs": [],
   "source": [
    "%load_ext autoreload\n",
    "%autoreload 2\n",
    "from vstars.level_bars import LevelBar\n",
    "\n",
    "classes, counts = np.unique(labels_df[df_index_names['label']].values, return_counts=True)\n",
    "population_cdict = {c:counts[kc] for kc,c in enumerate(classes)}\n",
    "print(LevelBar(population_cdict, ncols=60))"
   ]
  },
  {
   "cell_type": "code",
   "execution_count": null,
   "metadata": {},
   "outputs": [],
   "source": [
    "detections_df.info()\n",
    "detections_df[-20:]"
   ]
  },
  {
   "cell_type": "code",
   "execution_count": null,
   "metadata": {},
   "outputs": [],
   "source": [
    "labels_df.info()\n",
    "labels_df[:20]"
   ]
  },
  {
   "cell_type": "code",
   "execution_count": null,
   "metadata": {},
   "outputs": [],
   "source": [
    "%load_ext autoreload\n",
    "%autoreload 2\n",
    "from vstars.alerce_utils import get_valid_classes_objs, keep_only_valid_objs\n",
    "    \n",
    "target_classes = [\n",
    "    #'EA', # Eclipsing Binaries\n",
    "    'EB/EW', # Eclipsing Binaries\n",
    "    'Ceph', # Cefeidas\n",
    "    'RRL', # RR Lyrae\n",
    "    'DSCT', # Delta Scuti\n",
    "    'LPV', # Long Period Variables\n",
    "]\n",
    "valid_objs = get_valid_classes_objs(labels_df, df_index_names, target_classes)\n",
    "print(valid_objs[:10])"
   ]
  },
  {
   "cell_type": "code",
   "execution_count": null,
   "metadata": {},
   "outputs": [],
   "source": [
    "new_detections_df = keep_only_valid_objs(detections_df, valid_objs)\n",
    "print(new_detections_df.info())\n",
    "new_detections_df[:50]"
   ]
  },
  {
   "cell_type": "code",
   "execution_count": null,
   "metadata": {},
   "outputs": [],
   "source": [
    "new_labels_df = keep_only_valid_objs(labels_df, valid_objs)\n",
    "print(new_labels_df.info())\n",
    "new_labels_df[:50]"
   ]
  },
  {
   "cell_type": "code",
   "execution_count": null,
   "metadata": {},
   "outputs": [],
   "source": [
    "print(new_labels_df.loc['ZTF18aaavkyj'])\n",
    "print(new_detections_df.loc['ZTF18aaavkyj'])"
   ]
  },
  {
   "cell_type": "code",
   "execution_count": null,
   "metadata": {},
   "outputs": [],
   "source": [
    "import pandas as pd\n",
    "\n",
    "### save files\n",
    "extra_name = '' if uses_corr else '_noncorr'\n",
    "save_root_dir = f'../../data/{survey_name}'\n",
    "new_labels_df.to_parquet(f'{save_root_dir}/labels_vs{extra_name}.parquet')\n",
    "new_detections_df.to_parquet(f'{save_root_dir}/detections_vs{extra_name}.parquet')"
   ]
  }
 ],
 "metadata": {
  "kernelspec": {
   "display_name": "Python 3",
   "language": "python",
   "name": "python3"
  },
  "language_info": {
   "codemirror_mode": {
    "name": "ipython",
    "version": 3
   },
   "file_extension": ".py",
   "mimetype": "text/x-python",
   "name": "python",
   "nbconvert_exporter": "python",
   "pygments_lexer": "ipython3",
   "version": "3.7.9"
  }
 },
 "nbformat": 4,
 "nbformat_minor": 2
}
