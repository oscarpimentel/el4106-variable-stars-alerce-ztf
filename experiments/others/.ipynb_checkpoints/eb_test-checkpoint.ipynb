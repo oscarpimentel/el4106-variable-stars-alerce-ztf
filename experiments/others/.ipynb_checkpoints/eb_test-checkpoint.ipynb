{
 "cells": [
  {
   "cell_type": "code",
   "execution_count": 3,
   "metadata": {},
   "outputs": [],
   "source": [
    "import sys\n",
    "sys.path.append('../')\n",
    "sys.path.append('../../')"
   ]
  },
  {
   "cell_type": "code",
   "execution_count": 5,
   "metadata": {},
   "outputs": [
    {
     "name": "stdout",
     "output_type": "stream",
     "text": [
      "labels_df - columns: ['classALeRCE', 'ra', 'dec', 'period', 'source', 'id_source', 'class_source', 'separation_arcsec'] - id: oid\n",
      "detections_df - columns: ['fid', 'mjd', 'magpsf_corr', 'sigmapsf_corr'] - id: oid\n",
      "classes: {'EB/EW', 'DSCT', 'Ceph', 'LPV', 'RRL'}\n"
     ]
    }
   ],
   "source": [
    "import numpy as np\n",
    "import pandas as pd\n",
    "            \n",
    "#survey_name = 'alerceZTFv5.1'\n",
    "survey_name = 'alerceZTFv7.1' # use this dataset\n",
    "\n",
    "### load files\n",
    "load_root_dir = f'../../data/{survey_name}'\n",
    "labels_df = pd.read_parquet(f'{load_root_dir}/labels_vs.parquet')\n",
    "print(f'labels_df - columns: {list(labels_df.columns)} - id: {labels_df.index.name}')\n",
    "detections_df = pd.read_parquet(f'{load_root_dir}/detections_vs.parquet')\n",
    "print(f'detections_df - columns: {list(detections_df.columns)} - id: {detections_df.index.name}')\n",
    "\n",
    "### print info\n",
    "classes = set(labels_df['classALeRCE'].values)\n",
    "print('classes:', classes)"
   ]
  },
  {
   "cell_type": "code",
   "execution_count": 7,
   "metadata": {},
   "outputs": [
    {
     "name": "stdout",
     "output_type": "stream",
     "text": [
      "32825\n",
      "<class 'pandas.core.frame.DataFrame'>\n",
      "Index: 611344 entries, ZTF17aaafyya to ZTF20abbhluu\n",
      "Data columns (total 4 columns):\n",
      "fid              611344 non-null int64\n",
      "mjd              611344 non-null float64\n",
      "magpsf_corr      611344 non-null float64\n",
      "sigmapsf_corr    611344 non-null float64\n",
      "dtypes: float64(3), int64(1)\n",
      "memory usage: 23.3+ MB\n",
      "None\n"
     ]
    },
    {
     "data": {
      "text/html": [
       "<div>\n",
       "<style scoped>\n",
       "    .dataframe tbody tr th:only-of-type {\n",
       "        vertical-align: middle;\n",
       "    }\n",
       "\n",
       "    .dataframe tbody tr th {\n",
       "        vertical-align: top;\n",
       "    }\n",
       "\n",
       "    .dataframe thead th {\n",
       "        text-align: right;\n",
       "    }\n",
       "</style>\n",
       "<table border=\"1\" class=\"dataframe\">\n",
       "  <thead>\n",
       "    <tr style=\"text-align: right;\">\n",
       "      <th></th>\n",
       "      <th>fid</th>\n",
       "      <th>mjd</th>\n",
       "      <th>magpsf_corr</th>\n",
       "      <th>sigmapsf_corr</th>\n",
       "    </tr>\n",
       "    <tr>\n",
       "      <th>oid</th>\n",
       "      <th></th>\n",
       "      <th></th>\n",
       "      <th></th>\n",
       "      <th></th>\n",
       "    </tr>\n",
       "  </thead>\n",
       "  <tbody>\n",
       "    <tr>\n",
       "      <th>ZTF17aaafyya</th>\n",
       "      <td>1</td>\n",
       "      <td>58791.283368</td>\n",
       "      <td>15.262989</td>\n",
       "      <td>0.004987</td>\n",
       "    </tr>\n",
       "    <tr>\n",
       "      <th>ZTF17aaafyya</th>\n",
       "      <td>1</td>\n",
       "      <td>59081.470544</td>\n",
       "      <td>15.281165</td>\n",
       "      <td>0.007919</td>\n",
       "    </tr>\n",
       "    <tr>\n",
       "      <th>ZTF17aaafyya</th>\n",
       "      <td>1</td>\n",
       "      <td>59067.403970</td>\n",
       "      <td>15.245437</td>\n",
       "      <td>0.000493</td>\n",
       "    </tr>\n",
       "    <tr>\n",
       "      <th>ZTF17aaafyya</th>\n",
       "      <td>1</td>\n",
       "      <td>58793.249965</td>\n",
       "      <td>15.205705</td>\n",
       "      <td>0.010043</td>\n",
       "    </tr>\n",
       "    <tr>\n",
       "      <th>ZTF17aaafyya</th>\n",
       "      <td>1</td>\n",
       "      <td>58793.239028</td>\n",
       "      <td>15.228786</td>\n",
       "      <td>0.009911</td>\n",
       "    </tr>\n",
       "    <tr>\n",
       "      <th>ZTF17aaafyya</th>\n",
       "      <td>1</td>\n",
       "      <td>58747.324676</td>\n",
       "      <td>15.226640</td>\n",
       "      <td>0.009151</td>\n",
       "    </tr>\n",
       "    <tr>\n",
       "      <th>ZTF17aaafyya</th>\n",
       "      <td>1</td>\n",
       "      <td>58334.472708</td>\n",
       "      <td>15.233562</td>\n",
       "      <td>0.009774</td>\n",
       "    </tr>\n",
       "    <tr>\n",
       "      <th>ZTF17aaafyya</th>\n",
       "      <td>1</td>\n",
       "      <td>58677.470833</td>\n",
       "      <td>15.276610</td>\n",
       "      <td>0.009193</td>\n",
       "    </tr>\n",
       "    <tr>\n",
       "      <th>ZTF17aaafyya</th>\n",
       "      <td>1</td>\n",
       "      <td>58332.463079</td>\n",
       "      <td>15.212075</td>\n",
       "      <td>0.003076</td>\n",
       "    </tr>\n",
       "    <tr>\n",
       "      <th>ZTF17aaafyya</th>\n",
       "      <td>1</td>\n",
       "      <td>58831.202326</td>\n",
       "      <td>15.287754</td>\n",
       "      <td>0.005032</td>\n",
       "    </tr>\n",
       "  </tbody>\n",
       "</table>\n",
       "</div>"
      ],
      "text/plain": [
       "              fid           mjd  magpsf_corr  sigmapsf_corr\n",
       "oid                                                        \n",
       "ZTF17aaafyya    1  58791.283368    15.262989       0.004987\n",
       "ZTF17aaafyya    1  59081.470544    15.281165       0.007919\n",
       "ZTF17aaafyya    1  59067.403970    15.245437       0.000493\n",
       "ZTF17aaafyya    1  58793.249965    15.205705       0.010043\n",
       "ZTF17aaafyya    1  58793.239028    15.228786       0.009911\n",
       "ZTF17aaafyya    1  58747.324676    15.226640       0.009151\n",
       "ZTF17aaafyya    1  58334.472708    15.233562       0.009774\n",
       "ZTF17aaafyya    1  58677.470833    15.276610       0.009193\n",
       "ZTF17aaafyya    1  58332.463079    15.212075       0.003076\n",
       "ZTF17aaafyya    1  58831.202326    15.287754       0.005032"
      ]
     },
     "execution_count": 7,
     "metadata": {},
     "output_type": "execute_result"
    }
   ],
   "source": [
    "eb_objs = labels_df[labels_df['classALeRCE']=='EB/EW'].index.values\n",
    "print(len(eb_objs))\n",
    "eb_df = detections_df[detections_df.index.isin(eb_objs)]\n",
    "print(eb_df.info())\n",
    "eb_df[:10]"
   ]
  }
 ],
 "metadata": {
  "kernelspec": {
   "display_name": "Python 3",
   "language": "python",
   "name": "python3"
  },
  "language_info": {
   "codemirror_mode": {
    "name": "ipython",
    "version": 3
   },
   "file_extension": ".py",
   "mimetype": "text/x-python",
   "name": "python",
   "nbconvert_exporter": "python",
   "pygments_lexer": "ipython3",
   "version": "3.7.9"
  }
 },
 "nbformat": 4,
 "nbformat_minor": 4
}
