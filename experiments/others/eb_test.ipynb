{
 "cells": [
  {
   "cell_type": "code",
   "execution_count": null,
   "metadata": {},
   "outputs": [],
   "source": [
    "import sys\n",
    "sys.path.append('../')\n",
    "sys.path.append('../../')"
   ]
  },
  {
   "cell_type": "code",
   "execution_count": null,
   "metadata": {},
   "outputs": [],
   "source": [
    "import numpy as np\n",
    "import pandas as pd\n",
    "            \n",
    "#survey_name = 'alerceZTFv5.1'\n",
    "survey_name = 'alerceZTFv7.1' # use this dataset\n",
    "\n",
    "### load files\n",
    "load_root_dir = f'../../data/{survey_name}'\n",
    "labels_df = pd.read_parquet(f'{load_root_dir}/labels_vs.parquet')\n",
    "print(f'labels_df - columns: {list(labels_df.columns)} - id: {labels_df.index.name}')\n",
    "detections_df = pd.read_parquet(f'{load_root_dir}/detections_vs.parquet')\n",
    "print(f'detections_df - columns: {list(detections_df.columns)} - id: {detections_df.index.name}')\n",
    "\n",
    "### print info\n",
    "classes = sorted(set(labels_df['classALeRCE'].values))\n",
    "print('classes:', classes)"
   ]
  },
  {
   "cell_type": "code",
   "execution_count": null,
   "metadata": {},
   "outputs": [],
   "source": [
    "eb_objs = labels_df[labels_df['classALeRCE']=='EB/EW'].index.values\n",
    "print(len(eb_objs))\n",
    "eb_df = detections_df[detections_df.index.isin(eb_objs)]\n",
    "print(eb_df.info())\n",
    "eb_df[:10]"
   ]
  }
 ],
 "metadata": {
  "kernelspec": {
   "display_name": "Python 3",
   "language": "python",
   "name": "python3"
  },
  "language_info": {
   "codemirror_mode": {
    "name": "ipython",
    "version": 3
   },
   "file_extension": ".py",
   "mimetype": "text/x-python",
   "name": "python",
   "nbconvert_exporter": "python",
   "pygments_lexer": "ipython3",
   "version": "3.7.9"
  }
 },
 "nbformat": 4,
 "nbformat_minor": 4
}
